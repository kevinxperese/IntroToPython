{
 "cells": [
  {
   "cell_type": "markdown",
   "metadata": {},
   "source": [
    "# Introduction to Python"
   ]
  },
  {
   "cell_type": "markdown",
   "metadata": {},
   "source": [
    "## Objectives"
   ]
  },
  {
   "cell_type": "markdown",
   "metadata": {},
   "source": [
    "By the end of this lesson, you will:\n",
    "- Understand what Python and Jupyter Notebook are\n",
    "- Know how to get started with both of these tools\n",
    "- Understand variable names\n",
    "- Be able to perform arithmetic using Python\n",
    "- Have a grasp on the string manipulation tools available in Python\n",
    "- Have developed some familiarity with different data structures, including lists and dictionaries"
   ]
  },
  {
   "cell_type": "markdown",
   "metadata": {},
   "source": [
    "<a id='toc'></a>\n",
    "## Table of Contents"
   ]
  },
  {
   "cell_type": "markdown",
   "metadata": {},
   "source": [
    "- [Overview](#overview)\n",
    "- [The Basics](#basics)\n",
    "- [Data Structures](#datastructures)"
   ]
  },
  {
   "cell_type": "markdown",
   "metadata": {},
   "source": [
    "<a id='overview'></a>\n",
    "## Overview\n",
    "([Back to the Table of Contents](#toc))"
   ]
  },
  {
   "cell_type": "markdown",
   "metadata": {},
   "source": [
    "### What is Python?"
   ]
  },
  {
   "cell_type": "markdown",
   "metadata": {},
   "source": [
    "Python is a programming language that was originally developed by Guido van Rossum in 1991. It's continuing -- and growing -- popularity is in part due to the fact that it is extremely easy to read and learn. Furthermore, it is free and open-source -- meaning that anyone with some programming knowledge can develop packages to improve Python. As a result, there is nearly a Python 'package' for any programming task you might imagine -- meaning there's something here for users from all backgrounds.\n",
    "\n",
    "Python is a general purpose language. This means that it was not built for a specific purpose (unlike, say, R, which was built for statistical programming). Rather, it does many things well. I also call it a gateway language. It's easy to learn and, through it, you can pick up the fundamentals of object-oriented programming. Many people move on from Python to other languages, including Javascript, Perl, Ruby, etc."
   ]
  },
  {
   "cell_type": "markdown",
   "metadata": {},
   "source": [
    "### What is Jupyter Notebook?"
   ]
  },
  {
   "cell_type": "markdown",
   "metadata": {},
   "source": [
    "Jupyter Notebook, previously known as iPython, is a web application that allows you to quickly experiment and execute Python code within an interactive \"notebook\".\n",
    "\n",
    "From here, you can test code, perform statistical analysis, or visualize your data. Notebooks can be published and offer a quick and easy way to share code with others.\n",
    "\n",
    "This is a huge advantage compared to how Python is normally used. Usually, people write Python \"scripts\". That is, you write all of the code you want to execute using some word processing software (e.g., Notepad), line by line. You save the document and then execute the code from the command line. This is a pretty terrible way of testing code. If you made a mistake, you have to run the code until you come to the error. You fix it, and then run it all over again. You also have no way of easily sharing the output of a given line of code. Using a notebook, you can test one line at a time and you can share the output of each line of code easily."
   ]
  },
  {
   "cell_type": "markdown",
   "metadata": {},
   "source": [
    "### So, what are we doing right now?"
   ]
  },
  {
   "cell_type": "markdown",
   "metadata": {},
   "source": [
    "So, right now, you are reading a Jupyter Notebook in one of two ways: 1) You have either accessed a static version of it (e.g., a PDF, rendered on my Github page, rendered using nbviewer), or 2) you've downloaded these from Github, stored them in your own local directory, and are actually able to interact with these notebooks (this is preferred; instructions below).\n",
    "\n",
    "From *within* the notebook, we'll execute commands in the Python language.\n",
    "\n",
    "If you're a beginner, I get that this can be confusing. The important thing is to recognize that Python is the language and Jupyter is sort of like a canvas where you can use the language. So, you can also execute code written in another another language, like R, within the notebook (just like you can use pen and paper to write text from different languages). Similarly, you can write Python code elsewhere (e.g., Notepad), just like you can write English on a variety of surfaces.\n",
    "\n",
    "This is not a perfect analogy, but it's a place to start."
   ]
  },
  {
   "cell_type": "markdown",
   "metadata": {},
   "source": [
    "### Getting Started: Abridged"
   ]
  },
  {
   "cell_type": "markdown",
   "metadata": {},
   "source": [
    "#### Downloading Python Using Anaconda"
   ]
  },
  {
   "cell_type": "markdown",
   "metadata": {},
   "source": [
    "If you own a Mac, you most likely have Python pre-installed.\n",
    "\n",
    "If you have Windows or Python is not pre-installed with your Mac, you can get started by downloading Python [here](https://www.python.org/downloads/).\n",
    "\n",
    "If you intend on being a heavy user or work behind a firewall (which makes it difficult to download new packages), I would instead download Anaconda, a Python distribution. Once you download Anaconda, Python will automatically be downloaded onto your computer and placed in your PATH. Furthermore, Anaconda will automatically download more than 1000 of the most popular data science packages, including numpy, pandas, and will set up Jupyter notebook. You can download Anaconda [here](https://www.anaconda.com/download/).\n",
    "\n",
    "More detail on this process in the tutorial titled \"Executing Your First Python Script.\""
   ]
  },
  {
   "cell_type": "markdown",
   "metadata": {},
   "source": [
    "#### Executing Python Scripts"
   ]
  },
  {
   "cell_type": "markdown",
   "metadata": {},
   "source": [
    "Throughout this tutorial, we'll be working entirely out of Jupyter notebook. However, Jupyter notebook is often used for testing code or doing data analysis. If you are writing programs that other people can execute, they will eventually have to be compiled into a single script using some text editor.\n",
    "\n",
    "Much more on this in \"Executing Your First Python Script.\""
   ]
  },
  {
   "cell_type": "markdown",
   "metadata": {},
   "source": [
    "#### I can see the static version, but I want an interactive one."
   ]
  },
  {
   "cell_type": "markdown",
   "metadata": {},
   "source": [
    "Glad to hear it!\n",
    "\n",
    "So, first, you need to go onto my [Github page](https://github.com/raheem03/IntroToPython) and download the entire folder with Python tutorials. Save this to some local directory.\n",
    "\n",
    "If you downloaded Python via Anaconda, then you can simply open the command line, type \"jupyter notebook,\" and press return. This should open a tab in your default web browser. \n",
    "\n",
    "Here, you'll see your folder structure and you can follow it to wherever you have saved the Python tutorials. If you open it from here, you'll be able to interact with the notebook directly!\n",
    "\n",
    "Note, if you didn't download Python via Anaconda, you will not have Jupyter Notebook pre-installed and will have to install using **pip**. Instructions [here](http://jupyter.readthedocs.io/en/latest/install.html)."
   ]
  },
  {
   "cell_type": "markdown",
   "metadata": {},
   "source": [
    "<a id='basics'></a>\n",
    "## The Basics\n",
    "([Back to the Table of Contents](#toc))"
   ]
  },
  {
   "cell_type": "markdown",
   "metadata": {
    "collapsed": true
   },
   "source": [
    "In this first part of the tutorial, we will just go over basic concepts including variables and names, data types, printing, and the basics of string manipulation."
   ]
  },
  {
   "cell_type": "markdown",
   "metadata": {},
   "source": [
    "### Names or Variables"
   ]
  },
  {
   "cell_type": "markdown",
   "metadata": {},
   "source": [
    "A name stores information for some object. You can think of this as being something like a variable in math or other programming languages, but it can also be much broader (more on this throughout these tutorials). This object can be a string (text) or a number. It can also be a tuple, list, or dictionary, all of which we'll get into later. You can set a variable equal to this object with the equal operator (=).\n",
    "\n",
    "You can set a variable to any name as long as the variable name uses only letters, numbers, or the underscore (_), and *starts* with a letter."
   ]
  },
  {
   "cell_type": "code",
   "execution_count": 1,
   "metadata": {
    "collapsed": false
   },
   "outputs": [],
   "source": [
    "foo = 5"
   ]
  },
  {
   "cell_type": "code",
   "execution_count": 2,
   "metadata": {
    "collapsed": true
   },
   "outputs": [],
   "source": [
    "x = \"hello\""
   ]
  },
  {
   "cell_type": "code",
   "execution_count": 3,
   "metadata": {
    "collapsed": true
   },
   "outputs": [],
   "source": [
    "x2 = \"hello, world\""
   ]
  },
  {
   "cell_type": "code",
   "execution_count": 4,
   "metadata": {
    "collapsed": false
   },
   "outputs": [
    {
     "ename": "SyntaxError",
     "evalue": "invalid syntax (<ipython-input-4-73f12d8a253e>, line 1)",
     "output_type": "error",
     "traceback": [
      "\u001b[0;36m  File \u001b[0;32m\"<ipython-input-4-73f12d8a253e>\"\u001b[0;36m, line \u001b[0;32m1\u001b[0m\n\u001b[0;31m    2x = \"we're going to get an error\"\u001b[0m\n\u001b[0m     ^\u001b[0m\n\u001b[0;31mSyntaxError\u001b[0m\u001b[0;31m:\u001b[0m invalid syntax\n"
     ]
    }
   ],
   "source": [
    "2x = \"we're going to get an error\""
   ]
  },
  {
   "cell_type": "markdown",
   "metadata": {},
   "source": [
    "### Data Types"
   ]
  },
  {
   "cell_type": "markdown",
   "metadata": {},
   "source": [
    "There are many data types in Python. The most common are strings (text) and numeric types. Numeric types include integer, float, or double, to name a few. If you're not familiar with the difference between long, float, double, etc, you should definitely spend some time in the documentation. \n",
    "\n",
    "However, more complex data structures also have their own types. A data structure can be a list, dictionary, or tuple, for instance. \n",
    "\n",
    "Within certain packages, we have even more types. For example, numpy has arrays and pandas has DataFrames."
   ]
  },
  {
   "cell_type": "code",
   "execution_count": 5,
   "metadata": {
    "collapsed": false
   },
   "outputs": [
    {
     "data": {
      "text/plain": [
       "int"
      ]
     },
     "execution_count": 5,
     "metadata": {},
     "output_type": "execute_result"
    }
   ],
   "source": [
    "type(1)"
   ]
  },
  {
   "cell_type": "code",
   "execution_count": 6,
   "metadata": {
    "collapsed": false
   },
   "outputs": [
    {
     "data": {
      "text/plain": [
       "str"
      ]
     },
     "execution_count": 6,
     "metadata": {},
     "output_type": "execute_result"
    }
   ],
   "source": [
    "type(\"hello\")"
   ]
  },
  {
   "cell_type": "code",
   "execution_count": 7,
   "metadata": {
    "collapsed": false
   },
   "outputs": [
    {
     "data": {
      "text/plain": [
       "float"
      ]
     },
     "execution_count": 7,
     "metadata": {},
     "output_type": "execute_result"
    }
   ],
   "source": [
    "type(2.34)"
   ]
  },
  {
   "cell_type": "code",
   "execution_count": 8,
   "metadata": {
    "collapsed": false
   },
   "outputs": [
    {
     "data": {
      "text/plain": [
       "list"
      ]
     },
     "execution_count": 8,
     "metadata": {},
     "output_type": "execute_result"
    }
   ],
   "source": [
    "type([\"This\", \"is\", \"a\", \"list\", \"of\", \"strings\"])"
   ]
  },
  {
   "cell_type": "code",
   "execution_count": 9,
   "metadata": {
    "collapsed": false
   },
   "outputs": [
    {
     "data": {
      "text/plain": [
       "numpy.ndarray"
      ]
     },
     "execution_count": 9,
     "metadata": {},
     "output_type": "execute_result"
    }
   ],
   "source": [
    "import numpy as np\n",
    "foo = np.array([1, 2, 3])\n",
    "type(foo)"
   ]
  },
  {
   "cell_type": "markdown",
   "metadata": {},
   "source": [
    "### Printing"
   ]
  },
  {
   "cell_type": "markdown",
   "metadata": {},
   "source": [
    "Printing is straightforward. If you pass the print command a string (which are always surrounded in quotes), it will print to the console. However, in Jupyter notebook, lots of things print that you didn't explicitly ask to be printed. However, when executing scripts from the command shell, you need to explicitly pass the string to the print function for it to print to the command line. "
   ]
  },
  {
   "cell_type": "code",
   "execution_count": 10,
   "metadata": {
    "collapsed": false
   },
   "outputs": [
    {
     "name": "stdout",
     "output_type": "stream",
     "text": [
      "2\n"
     ]
    }
   ],
   "source": [
    "print(2)"
   ]
  },
  {
   "cell_type": "code",
   "execution_count": 11,
   "metadata": {
    "collapsed": false
   },
   "outputs": [
    {
     "name": "stdout",
     "output_type": "stream",
     "text": [
      "Hello, World\n"
     ]
    }
   ],
   "source": [
    "print(\"Hello, World\")"
   ]
  },
  {
   "cell_type": "code",
   "execution_count": 12,
   "metadata": {
    "collapsed": false
   },
   "outputs": [
    {
     "name": "stdout",
     "output_type": "stream",
     "text": [
      "Hello, World\n"
     ]
    }
   ],
   "source": [
    "foo = \"Hello, World\"\n",
    "print(foo)"
   ]
  },
  {
   "cell_type": "markdown",
   "metadata": {},
   "source": [
    "### Basic Mathematical Operations"
   ]
  },
  {
   "cell_type": "code",
   "execution_count": 13,
   "metadata": {
    "collapsed": false
   },
   "outputs": [
    {
     "data": {
      "text/plain": [
       "2"
      ]
     },
     "execution_count": 13,
     "metadata": {},
     "output_type": "execute_result"
    }
   ],
   "source": [
    "# Addition\n",
    "1+1"
   ]
  },
  {
   "cell_type": "code",
   "execution_count": 14,
   "metadata": {
    "collapsed": false
   },
   "outputs": [
    {
     "data": {
      "text/plain": [
       "4"
      ]
     },
     "execution_count": 14,
     "metadata": {},
     "output_type": "execute_result"
    }
   ],
   "source": [
    "# Subtraction\n",
    "10-6"
   ]
  },
  {
   "cell_type": "code",
   "execution_count": 15,
   "metadata": {
    "collapsed": false
   },
   "outputs": [
    {
     "data": {
      "text/plain": [
       "30"
      ]
     },
     "execution_count": 15,
     "metadata": {},
     "output_type": "execute_result"
    }
   ],
   "source": [
    "# Multiplication\n",
    "foo = 5\n",
    "\n",
    "# Note that Python recognizes that foo is a name that represents\n",
    "# the number 5\n",
    "\n",
    "6*foo "
   ]
  },
  {
   "cell_type": "code",
   "execution_count": 16,
   "metadata": {
    "collapsed": false
   },
   "outputs": [
    {
     "data": {
      "text/plain": [
       "27"
      ]
     },
     "execution_count": 16,
     "metadata": {},
     "output_type": "execute_result"
    }
   ],
   "source": [
    "# Exponential (use the ** instead of the carat)\n",
    "3**3"
   ]
  },
  {
   "cell_type": "code",
   "execution_count": 17,
   "metadata": {
    "collapsed": false
   },
   "outputs": [
    {
     "data": {
      "text/plain": [
       "1"
      ]
     },
     "execution_count": 17,
     "metadata": {},
     "output_type": "execute_result"
    }
   ],
   "source": [
    "# Use the modulo (%) to calculate the remainder\n",
    "10%3"
   ]
  },
  {
   "cell_type": "code",
   "execution_count": 18,
   "metadata": {
    "collapsed": false
   },
   "outputs": [
    {
     "ename": "TypeError",
     "evalue": "unsupported operand type(s) for +: 'int' and 'str'",
     "output_type": "error",
     "traceback": [
      "\u001b[0;31m---------------------------------------------------------------------------\u001b[0m",
      "\u001b[0;31mTypeError\u001b[0m                                 Traceback (most recent call last)",
      "\u001b[0;32m<ipython-input-18-3c86f10b53a4>\u001b[0m in \u001b[0;36m<module>\u001b[0;34m()\u001b[0m\n\u001b[1;32m      1\u001b[0m \u001b[1;31m# You will get an error if you try to use a string in a\u001b[0m\u001b[1;33m\u001b[0m\u001b[1;33m\u001b[0m\u001b[0m\n\u001b[1;32m      2\u001b[0m \u001b[1;31m# mathematical operation\u001b[0m\u001b[1;33m\u001b[0m\u001b[1;33m\u001b[0m\u001b[0m\n\u001b[0;32m----> 3\u001b[0;31m \u001b[1;36m3\u001b[0m\u001b[1;33m+\u001b[0m\u001b[1;34m\"hello\"\u001b[0m\u001b[1;33m\u001b[0m\u001b[0m\n\u001b[0m",
      "\u001b[0;31mTypeError\u001b[0m: unsupported operand type(s) for +: 'int' and 'str'"
     ]
    }
   ],
   "source": [
    "# You will get an error if you try to use a string in a\n",
    "# mathematical operation\n",
    "3+\"hello\""
   ]
  },
  {
   "cell_type": "markdown",
   "metadata": {},
   "source": [
    "### Manipulating Strings Using String Methods"
   ]
  },
  {
   "cell_type": "code",
   "execution_count": 19,
   "metadata": {
    "collapsed": false
   },
   "outputs": [
    {
     "data": {
      "text/plain": [
       "'Hello, World'"
      ]
     },
     "execution_count": 19,
     "metadata": {},
     "output_type": "execute_result"
    }
   ],
   "source": [
    "# You can concatenate strings by simply separating them with a plus \n",
    "# (+) sign.\n",
    "\"Hello,\" + \" World\""
   ]
  },
  {
   "cell_type": "code",
   "execution_count": 20,
   "metadata": {
    "collapsed": false
   },
   "outputs": [
    {
     "name": "stdout",
     "output_type": "stream",
     "text": [
      "What is your name?Raheem\n"
     ]
    }
   ],
   "source": [
    "# You can also ask users to define a variable's value\n",
    "name = input(\"What is your name?\")"
   ]
  },
  {
   "cell_type": "code",
   "execution_count": 21,
   "metadata": {
    "collapsed": false
   },
   "outputs": [
    {
     "data": {
      "text/plain": [
       "'My name is Raheem.'"
      ]
     },
     "execution_count": 21,
     "metadata": {},
     "output_type": "execute_result"
    }
   ],
   "source": [
    "# The format method is one of the most powerful string functions in \n",
    "# Python. You can use empty brackets in text and replace whatever \n",
    "# is inside them with some variable name using .format\n",
    "\"My name is {}.\".format(name)"
   ]
  },
  {
   "cell_type": "code",
   "execution_count": 22,
   "metadata": {
    "collapsed": false
   },
   "outputs": [
    {
     "data": {
      "text/plain": [
       "'My name is Raheem.'"
      ]
     },
     "execution_count": 22,
     "metadata": {},
     "output_type": "execute_result"
    }
   ],
   "source": [
    "# The same, but with multiple empty brackets\n",
    "\"{} {} {} {}.\".format(\"My\", \"name\", \"is\", name)"
   ]
  },
  {
   "cell_type": "code",
   "execution_count": 23,
   "metadata": {
    "collapsed": false
   },
   "outputs": [
    {
     "data": {
      "text/plain": [
       "'H'"
      ]
     },
     "execution_count": 23,
     "metadata": {},
     "output_type": "execute_result"
    }
   ],
   "source": [
    "# You can get the nth letter of a string using indexing\n",
    "# Indexing requires using brackets after the variable name\n",
    "string = \"Hello, World\"\n",
    "string[0] # Python indexing starts counting at 0, rather than 1"
   ]
  },
  {
   "cell_type": "code",
   "execution_count": 24,
   "metadata": {
    "collapsed": false
   },
   "outputs": [
    {
     "data": {
      "text/plain": [
       "'Hello'"
      ]
     },
     "execution_count": 24,
     "metadata": {},
     "output_type": "execute_result"
    }
   ],
   "source": [
    "# We'll talk more about indexing later, but note that you can get \n",
    "# multiple letters\n",
    "string[0:5] \n",
    "\n",
    "# Note this starts from the 0-indexed (first) object and up to,\n",
    "# but not including, the 5-indexed (sixth) object"
   ]
  },
  {
   "cell_type": "code",
   "execution_count": 25,
   "metadata": {
    "collapsed": false
   },
   "outputs": [
    {
     "data": {
      "text/plain": [
       "'Hello'"
      ]
     },
     "execution_count": 25,
     "metadata": {},
     "output_type": "execute_result"
    }
   ],
   "source": [
    "\"hello\".capitalize()"
   ]
  },
  {
   "cell_type": "code",
   "execution_count": 26,
   "metadata": {
    "collapsed": false
   },
   "outputs": [
    {
     "data": {
      "text/plain": [
       "'hello'"
      ]
     },
     "execution_count": 26,
     "metadata": {},
     "output_type": "execute_result"
    }
   ],
   "source": [
    "\"HELLO\".lower()"
   ]
  },
  {
   "cell_type": "code",
   "execution_count": 27,
   "metadata": {
    "collapsed": false
   },
   "outputs": [
    {
     "data": {
      "text/plain": [
       "'HELLO'"
      ]
     },
     "execution_count": 27,
     "metadata": {},
     "output_type": "execute_result"
    }
   ],
   "source": [
    "\"hello\".upper()"
   ]
  },
  {
   "cell_type": "code",
   "execution_count": 28,
   "metadata": {
    "collapsed": false
   },
   "outputs": [
    {
     "name": "stdout",
     "output_type": "stream",
     "text": [
      "['Richmond', 'Virginia']\n"
     ]
    }
   ],
   "source": [
    "string = \"Richmond, Virginia\"\n",
    "geography = string.split(\", \")\n",
    "print(geography)"
   ]
  },
  {
   "cell_type": "code",
   "execution_count": 29,
   "metadata": {
    "collapsed": false
   },
   "outputs": [
    {
     "name": "stdout",
     "output_type": "stream",
     "text": [
      "Richmond\n"
     ]
    }
   ],
   "source": [
    "# Note that lists can be indexed in the same way, but we are now \n",
    "# indexing items in a list, instead of letters in a word\n",
    "print(geography[0])"
   ]
  },
  {
   "cell_type": "code",
   "execution_count": 30,
   "metadata": {
    "collapsed": false
   },
   "outputs": [
    {
     "name": "stdout",
     "output_type": "stream",
     "text": [
      "City: Richmond\n",
      "State: Virginia\n"
     ]
    }
   ],
   "source": [
    "print(\"City: {}\".format(geography[0]))\n",
    "print(\"State: {}\".format(geography[1]))"
   ]
  },
  {
   "cell_type": "code",
   "execution_count": 31,
   "metadata": {
    "collapsed": false
   },
   "outputs": [
    {
     "data": {
      "text/plain": [
       "'San Francisco, California'"
      ]
     },
     "execution_count": 31,
     "metadata": {},
     "output_type": "execute_result"
    }
   ],
   "source": [
    "# We can also join together a bunch of items in a list\n",
    "\", \".join([\"San Francisco\", \"California\"])"
   ]
  },
  {
   "cell_type": "code",
   "execution_count": 32,
   "metadata": {
    "collapsed": false
   },
   "outputs": [
    {
     "name": "stdout",
     "output_type": "stream",
     "text": [
      "   <-- strip() will remove these leading spaces and trailing spaces -->    \n"
     ]
    }
   ],
   "source": [
    "# And we can also strip away leading and trailing spaces\n",
    "string = \"   <-- strip() will remove these leading spaces and trailing spaces -->    \"\n",
    "print(string)"
   ]
  },
  {
   "cell_type": "code",
   "execution_count": 33,
   "metadata": {
    "collapsed": false
   },
   "outputs": [
    {
     "data": {
      "text/plain": [
       "'<-- strip() will remove these leading spaces and trailing spaces -->'"
      ]
     },
     "execution_count": 33,
     "metadata": {},
     "output_type": "execute_result"
    }
   ],
   "source": [
    "string.strip()"
   ]
  },
  {
   "cell_type": "code",
   "execution_count": 34,
   "metadata": {
    "collapsed": false
   },
   "outputs": [
    {
     "data": {
      "text/plain": [
       "\"Here is a string and we wi|| rep|ace a|| instances of '|' with a pipe (|).\""
      ]
     },
     "execution_count": 34,
     "metadata": {},
     "output_type": "execute_result"
    }
   ],
   "source": [
    "# Python also has a function to essentially find-and-replace all instances of a text\n",
    "string = \"Here is a string and we will replace all instances of 'l' with a pipe (|).\"\n",
    "string.replace('l', '|')"
   ]
  },
  {
   "cell_type": "markdown",
   "metadata": {},
   "source": [
    "<a id='datastructures'></a>\n",
    "## Data Structures\n",
    "([Back to the Table of Contents](#toc))"
   ]
  },
  {
   "cell_type": "markdown",
   "metadata": {},
   "source": [
    "### Lists"
   ]
  },
  {
   "cell_type": "markdown",
   "metadata": {},
   "source": [
    "A list is a compound data type, a data structure which itself stores other values and data structures. A list can contain a variety of data types (e.g., a single list can contain strings, numbers, other lists, etc). It is one of the most powerful tools in your arsenal.\n",
    "\n",
    "You can create an empty list with '[]', separate items in a list with commas, or get a specific item from a list using indexing (brackets)."
   ]
  },
  {
   "cell_type": "code",
   "execution_count": 35,
   "metadata": {
    "collapsed": false
   },
   "outputs": [
    {
     "name": "stdout",
     "output_type": "stream",
     "text": [
      "[]\n"
     ]
    }
   ],
   "source": [
    "foo = []\n",
    "print(foo)"
   ]
  },
  {
   "cell_type": "code",
   "execution_count": 36,
   "metadata": {
    "collapsed": false
   },
   "outputs": [
    {
     "name": "stdout",
     "output_type": "stream",
     "text": [
      "['Hello', 'World']\n"
     ]
    }
   ],
   "source": [
    "foo = [\"Hello\", \"World\"]\n",
    "print(foo)"
   ]
  },
  {
   "cell_type": "code",
   "execution_count": 37,
   "metadata": {
    "collapsed": false
   },
   "outputs": [
    {
     "name": "stdout",
     "output_type": "stream",
     "text": [
      "['Hello', 'World', 1]\n"
     ]
    }
   ],
   "source": [
    "# Add the number 1 to the list\n",
    "foo.append(1)\n",
    "print(foo)"
   ]
  },
  {
   "cell_type": "code",
   "execution_count": 38,
   "metadata": {
    "collapsed": false
   },
   "outputs": [
    {
     "name": "stdout",
     "output_type": "stream",
     "text": [
      "['Hello', 'World', 1, 'Some', 'More', 'Items']\n"
     ]
    }
   ],
   "source": [
    "# Add several items to list\n",
    "foo.extend([\"Some\", \"More\", \"Items\"])\n",
    "print(foo)"
   ]
  },
  {
   "cell_type": "code",
   "execution_count": 39,
   "metadata": {
    "collapsed": false
   },
   "outputs": [
    {
     "data": {
      "text/plain": [
       "1"
      ]
     },
     "execution_count": 39,
     "metadata": {},
     "output_type": "execute_result"
    }
   ],
   "source": [
    "# Get third item\n",
    "foo[2]"
   ]
  },
  {
   "cell_type": "code",
   "execution_count": 40,
   "metadata": {
    "collapsed": false
   },
   "outputs": [
    {
     "ename": "IndexError",
     "evalue": "list index out of range",
     "output_type": "error",
     "traceback": [
      "\u001b[0;31m---------------------------------------------------------------------------\u001b[0m",
      "\u001b[0;31mIndexError\u001b[0m                                Traceback (most recent call last)",
      "\u001b[0;32m<ipython-input-40-c64cb313680d>\u001b[0m in \u001b[0;36m<module>\u001b[0;34m()\u001b[0m\n\u001b[1;32m      1\u001b[0m \u001b[1;31m# Get 7th item (which doesn't exist)\u001b[0m\u001b[1;33m\u001b[0m\u001b[1;33m\u001b[0m\u001b[0m\n\u001b[0;32m----> 2\u001b[0;31m \u001b[0mfoo\u001b[0m\u001b[1;33m[\u001b[0m\u001b[1;36m6\u001b[0m\u001b[1;33m]\u001b[0m\u001b[1;33m\u001b[0m\u001b[0m\n\u001b[0m",
      "\u001b[0;31mIndexError\u001b[0m: list index out of range"
     ]
    }
   ],
   "source": [
    "# Get 7th item (which doesn't exist)\n",
    "foo[6]"
   ]
  },
  {
   "cell_type": "code",
   "execution_count": 41,
   "metadata": {
    "collapsed": false
   },
   "outputs": [
    {
     "data": {
      "text/plain": [
       "'Items'"
      ]
     },
     "execution_count": 41,
     "metadata": {},
     "output_type": "execute_result"
    }
   ],
   "source": [
    "# Get last item\n",
    "foo[-1]"
   ]
  },
  {
   "cell_type": "code",
   "execution_count": 42,
   "metadata": {
    "collapsed": false
   },
   "outputs": [
    {
     "data": {
      "text/plain": [
       "['World', 1, 'Some', 'More', 'Items']"
      ]
     },
     "execution_count": 42,
     "metadata": {},
     "output_type": "execute_result"
    }
   ],
   "source": [
    "# Get second item until end of list\n",
    "foo[1:]"
   ]
  },
  {
   "cell_type": "code",
   "execution_count": 43,
   "metadata": {
    "collapsed": false
   },
   "outputs": [
    {
     "data": {
      "text/plain": [
       "['Hello', 'World', 1]"
      ]
     },
     "execution_count": 43,
     "metadata": {},
     "output_type": "execute_result"
    }
   ],
   "source": [
    "# Get all items up to, but not including, fourth item in list\n",
    "foo[:3]"
   ]
  },
  {
   "cell_type": "code",
   "execution_count": 44,
   "metadata": {
    "collapsed": false
   },
   "outputs": [
    {
     "data": {
      "text/plain": [
       "6"
      ]
     },
     "execution_count": 44,
     "metadata": {},
     "output_type": "execute_result"
    }
   ],
   "source": [
    "# Get length of list\n",
    "len(foo)"
   ]
  },
  {
   "cell_type": "code",
   "execution_count": 45,
   "metadata": {
    "collapsed": false
   },
   "outputs": [
    {
     "name": "stdout",
     "output_type": "stream",
     "text": [
      "Items\n"
     ]
    }
   ],
   "source": [
    "# Return last item in list, and remove it from original list\n",
    "bar = foo.pop()\n",
    "print(bar)"
   ]
  },
  {
   "cell_type": "code",
   "execution_count": 46,
   "metadata": {
    "collapsed": false
   },
   "outputs": [
    {
     "name": "stdout",
     "output_type": "stream",
     "text": [
      "['Hello', 'World', 1, 'Some', 'More']\n"
     ]
    }
   ],
   "source": [
    "# Check to see that it has been removed from original list\n",
    "print(foo)"
   ]
  },
  {
   "cell_type": "markdown",
   "metadata": {},
   "source": [
    "### Dictionaries"
   ]
  },
  {
   "cell_type": "markdown",
   "metadata": {},
   "source": [
    "And here is where the fun begins. I'm getting excited just thinking about dictionaries.\n",
    "\n",
    "Unlike lists (or tuples), dictionaries are not sequences. That is, their order doesn't matter and items aren't indexed as they are in a list.\n",
    "\n",
    "Rather, every item in a dictionary is a pair. The two items in this pair are a key and a value. While a key has to be a single name, the \"values\" can be a string, number, list, or even another dictionary. It's hard to appreciate this in the abstract, so let's dive into some examples."
   ]
  },
  {
   "cell_type": "code",
   "execution_count": 47,
   "metadata": {
    "collapsed": false
   },
   "outputs": [
    {
     "data": {
      "text/plain": [
       "{}"
      ]
     },
     "execution_count": 47,
     "metadata": {},
     "output_type": "execute_result"
    }
   ],
   "source": [
    "# Create an empty dictionary\n",
    "foo = {}\n",
    "foo"
   ]
  },
  {
   "cell_type": "code",
   "execution_count": 48,
   "metadata": {
    "collapsed": false
   },
   "outputs": [
    {
     "data": {
      "text/plain": [
       "{'Banana': '100 calories', 'Cereal': '200 calories'}"
      ]
     },
     "execution_count": 48,
     "metadata": {},
     "output_type": "execute_result"
    }
   ],
   "source": [
    "# Create items in the dictionary\n",
    "d = {\"Cereal\": \"200 calories\", \"Banana\": \"100 calories\"}\n",
    "d"
   ]
  },
  {
   "cell_type": "code",
   "execution_count": 49,
   "metadata": {
    "collapsed": false
   },
   "outputs": [
    {
     "data": {
      "text/plain": [
       "{'Banana': '100 calories', 'Burrito': '700 calories', 'Cereal': '200 calories'}"
      ]
     },
     "execution_count": 49,
     "metadata": {},
     "output_type": "execute_result"
    }
   ],
   "source": [
    "# Add item to dictionary\n",
    "d[\"Burrito\"] = \"700 calories\"\n",
    "d"
   ]
  },
  {
   "cell_type": "code",
   "execution_count": 50,
   "metadata": {
    "collapsed": false
   },
   "outputs": [
    {
     "data": {
      "text/plain": [
       "'200 calories'"
      ]
     },
     "execution_count": 50,
     "metadata": {},
     "output_type": "execute_result"
    }
   ],
   "source": [
    "# Get value associated with key in dictionary\n",
    "d[\"Cereal\"]"
   ]
  },
  {
   "cell_type": "code",
   "execution_count": 51,
   "metadata": {
    "collapsed": false
   },
   "outputs": [
    {
     "data": {
      "text/plain": [
       "dict_keys(['Cereal', 'Banana', 'Burrito'])"
      ]
     },
     "execution_count": 51,
     "metadata": {},
     "output_type": "execute_result"
    }
   ],
   "source": [
    "# Get all keys in dictionary\n",
    "d.keys()"
   ]
  },
  {
   "cell_type": "code",
   "execution_count": 52,
   "metadata": {
    "collapsed": false
   },
   "outputs": [
    {
     "data": {
      "text/plain": [
       "dict_values(['200 calories', '100 calories', '700 calories'])"
      ]
     },
     "execution_count": 52,
     "metadata": {},
     "output_type": "execute_result"
    }
   ],
   "source": [
    "# Get all values in dictionary\n",
    "d.values()"
   ]
  },
  {
   "cell_type": "code",
   "execution_count": 53,
   "metadata": {
    "collapsed": false
   },
   "outputs": [
    {
     "data": {
      "text/plain": [
       "dict_items([('Cereal', '200 calories'), ('Banana', '100 calories'), ('Burrito', '700 calories')])"
      ]
     },
     "execution_count": 53,
     "metadata": {},
     "output_type": "execute_result"
    }
   ],
   "source": [
    "# Get all pairs\n",
    "d.items()"
   ]
  },
  {
   "cell_type": "markdown",
   "metadata": {},
   "source": [
    "### Other Data Structures"
   ]
  },
  {
   "cell_type": "markdown",
   "metadata": {},
   "source": [
    "While lists and dictionaries are the data structures you will use the most, there are several others that may prove useful: tuples and sets.\n",
    "\n",
    "Tuples are like lists, but they are *immutable*. This means that you cannot change their order, or add/remove items from the tuple (without workarounds). Whereas a list is enclosed in brackets, tuples are enclosed in parentheses.\n",
    "\n",
    "Sets are like lists, but they do not contain duplicates. Usefully, you can perform mathematical operations on sets (e.g., union, intersection).\n",
    "\n",
    "To learn more about these other structures, see the documentation [here](https://docs.python.org/3/tutorial/datastructures.html)."
   ]
  },
  {
   "cell_type": "markdown",
   "metadata": {},
   "source": [
    "# END OF FILE"
   ]
  }
 ],
 "metadata": {
  "kernelspec": {
   "display_name": "Python 3",
   "language": "python",
   "name": "python3"
  },
  "language_info": {
   "codemirror_mode": {
    "name": "ipython",
    "version": 3
   },
   "file_extension": ".py",
   "mimetype": "text/x-python",
   "name": "python",
   "nbconvert_exporter": "python",
   "pygments_lexer": "ipython3",
   "version": "3.6.0"
  }
 },
 "nbformat": 4,
 "nbformat_minor": 0
}
