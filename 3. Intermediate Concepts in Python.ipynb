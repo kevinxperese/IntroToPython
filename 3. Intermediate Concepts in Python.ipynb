{
 "cells": [
  {
   "cell_type": "markdown",
   "metadata": {},
   "source": [
    "# Intermediate Concepts in Python"
   ]
  },
  {
   "cell_type": "markdown",
   "metadata": {},
   "source": [
    "## Objectives"
   ]
  },
  {
   "cell_type": "markdown",
   "metadata": {},
   "source": [
    "By the end of this lesson you will:\n",
    "- Understand iterators and generators and implement them in your own code\n",
    "- Have some basic familiarity with the functional programming paradigm\n",
    "- Understand how to implement list comprehensions, lambda functions, and various functional programming methods to tighten up and speed up your workflow"
   ]
  },
  {
   "cell_type": "markdown",
   "metadata": {},
   "source": [
    "<a id='toc'></a>\n",
    "## Table of Contents"
   ]
  },
  {
   "cell_type": "markdown",
   "metadata": {},
   "source": [
    "- [Iterators](#iterators)\n",
    "- [Generators](#generators)\n",
    "- [Introduction to Functional Programming](#functional)\n",
    "- [Higher-Order Functions and Decorators](#decorators)\n",
    "- [Next Steps](#nextsteps)\n",
    "- [Appendix](#appendix)"
   ]
  },
  {
   "cell_type": "markdown",
   "metadata": {},
   "source": [
    "<a id='iterators'></a>\n",
    "## Iterators\n",
    "([Back to the Table of Contents](#toc)"
   ]
  },
  {
   "cell_type": "markdown",
   "metadata": {},
   "source": [
    "To understand iterators, we must first be comfortable with **iterables** -- which, perhaps without realizing it, you already are!\n",
    "\n",
    "In layman's terms, an *iterable* is anything you can *iterate* over. This includes lists and dictionaries, but also strings!"
   ]
  },
  {
   "cell_type": "code",
   "execution_count": 1,
   "metadata": {
    "collapsed": false
   },
   "outputs": [
    {
     "name": "stdout",
     "output_type": "stream",
     "text": [
      "a\n",
      "b\n",
      "c\n"
     ]
    }
   ],
   "source": [
    "for i in ['a', 'b', 'c']:\n",
    "    print(i)"
   ]
  },
  {
   "cell_type": "code",
   "execution_count": 2,
   "metadata": {
    "collapsed": false
   },
   "outputs": [
    {
     "name": "stdout",
     "output_type": "stream",
     "text": [
      "1\n",
      "2\n",
      "3\n"
     ]
    }
   ],
   "source": [
    "for i in {1:'a', 2:'b', 3:'c'}:\n",
    "    print(i)"
   ]
  },
  {
   "cell_type": "code",
   "execution_count": 3,
   "metadata": {
    "collapsed": false
   },
   "outputs": [
    {
     "name": "stdout",
     "output_type": "stream",
     "text": [
      "a\n",
      "b\n",
      "c\n"
     ]
    }
   ],
   "source": [
    "for i in 'abc':\n",
    "    print(i)"
   ]
  },
  {
   "cell_type": "markdown",
   "metadata": {},
   "source": [
    "### iter and next"
   ]
  },
  {
   "cell_type": "markdown",
   "metadata": {},
   "source": [
    "So, in the for-loops above, what's happening under the hood?\n",
    "\n",
    "First, let's get technical. An iterable is an object you can pass to the built-in function called **\\__iter__**. Once the iterable is passed through the function, the function returns an iterator object.\n",
    "\n",
    "An iterator object is one that has a single method, **\\__next__**, which lets us increment through an iterable (e.g., a list or dictionary) one item at a time.\n",
    "\n",
    "More concretely, first we create a list ['a', 'b', 'c']. This list is our iterable.\n",
    "\n",
    "Invoking a for loop passes this list to **\\__iter__** and returns an iterator.\n",
    "\n",
    "Now, we invoke **\\__next__**, which 'remembers' where we are in the list. After we have completed the first iteration of the loop, **\\__next__** increments forward to the second element ('b') and we repeat the loop.\n",
    "\n",
    "Once we get to the end of the list, **\\__next__** raises an exception, ending the loop."
   ]
  },
  {
   "cell_type": "markdown",
   "metadata": {},
   "source": [
    "<a id='generators'></a>\n",
    "## Generators\n",
    "([Back to the Table of Contents](#toc))"
   ]
  },
  {
   "cell_type": "markdown",
   "metadata": {},
   "source": [
    "The issue with the above example is that any procedure that relies on looping over iterators (irrespective of how we implement it) means we have to loop over the **entire** iterable, which can be memory intensive.\n",
    "\n",
    "Here are two instances where this could be a problem."
   ]
  },
  {
   "cell_type": "markdown",
   "metadata": {},
   "source": [
    "First, consider the case where we want to sum every third number from 1 to some large *n*. In such a case, given what we know so far, we could create a list of all such numbers using a loop (increment by 3 until you hit n), and then find the sum of that list."
   ]
  },
  {
   "cell_type": "code",
   "execution_count": 4,
   "metadata": {
    "collapsed": true
   },
   "outputs": [],
   "source": [
    "n = 10000\n",
    "i = 1\n",
    "l = []\n",
    "while i <= n:\n",
    "    l.append(i)\n",
    "    i += 3"
   ]
  },
  {
   "cell_type": "markdown",
   "metadata": {},
   "source": [
    "10,000 is a small number so this should've worked fine for you. But you can imagine we'd quickly hit a problem if we increased by several orders of magnitude or complicated the expressions within the loop in any way.\n",
    "\n",
    "Think about our task: all we want to do is sum the *next* number in our loop to the numbers we already have. Why build a long list and store it in memory until the end, when we can then sum it?\n",
    "\n",
    "What we want to do is start the loop, get the second number, STOP, and sum those two numbers. Then, we can ignore the first two numbers in the loop, get the third number, STOP, and sum the third number to the sum of the first two numbers. In this case, we are only ever holding two numbers in memory.\n",
    "\n",
    "One more example of where we run into issues with iterators. \n",
    "\n",
    "Say we have a function that creates a list counting by three to some specified n:"
   ]
  },
  {
   "cell_type": "code",
   "execution_count": 5,
   "metadata": {
    "collapsed": false
   },
   "outputs": [
    {
     "data": {
      "text/plain": [
       "[1,\n",
       " 4,\n",
       " 7,\n",
       " 10,\n",
       " 13,\n",
       " 16,\n",
       " 19,\n",
       " 22,\n",
       " 25,\n",
       " 28,\n",
       " 31,\n",
       " 34,\n",
       " 37,\n",
       " 40,\n",
       " 43,\n",
       " 46,\n",
       " 49,\n",
       " 52,\n",
       " 55,\n",
       " 58,\n",
       " 61,\n",
       " 64,\n",
       " 67,\n",
       " 70,\n",
       " 73,\n",
       " 76,\n",
       " 79,\n",
       " 82,\n",
       " 85,\n",
       " 88,\n",
       " 91,\n",
       " 94,\n",
       " 97,\n",
       " 100]"
      ]
     },
     "execution_count": 5,
     "metadata": {},
     "output_type": "execute_result"
    }
   ],
   "source": [
    "def countbythree(end):\n",
    "    i = 1\n",
    "    l = []\n",
    "    while i <= end:\n",
    "        l.append(i)\n",
    "        i += 3\n",
    "    return l\n",
    "\n",
    "countbythree(100)"
   ]
  },
  {
   "cell_type": "markdown",
   "metadata": {},
   "source": [
    "But we also have a second function that does *something* to every ith element in l:"
   ]
  },
  {
   "cell_type": "code",
   "execution_count": 6,
   "metadata": {
    "collapsed": true
   },
   "outputs": [],
   "source": [
    "def multiplybythree(tomultiply):\n",
    "    l = []\n",
    "    for i in tomultiply:\n",
    "        l.append(i*3)\n",
    "    return l"
   ]
  },
  {
   "cell_type": "markdown",
   "metadata": {},
   "source": [
    "The problem with this is that you first have to create the list I titled *tomultiply*. Only then can you create the second list. That is, there's no way to create both concurrently. That is, you cannot do something like this:\n",
    "\n",
    "Rather, to overcome this issue, we need to utilize **generators**. A generator works much like a function, but **yields** a value and then stops. Normally, you have to run through a loop entirely, but with generators you can start or stop at some specified point in an iterable, stop, and get some value. When you are ready to continue, you can use **next** to move to the next item in the iterable.\n",
    "\n",
    "To create a generator, you simply create a function. However, rather than **return**ing some object at the end, you **yield** it. This automatically creates a generator.\n",
    "\n",
    "Check this out:"
   ]
  },
  {
   "cell_type": "code",
   "execution_count": 7,
   "metadata": {
    "collapsed": false
   },
   "outputs": [
    {
     "name": "stdout",
     "output_type": "stream",
     "text": [
      "1\n",
      "4\n",
      "7\n",
      "10\n",
      "13\n",
      "16\n",
      "19\n",
      "22\n",
      "25\n",
      "28\n",
      "31\n",
      "34\n",
      "37\n",
      "40\n",
      "43\n",
      "46\n",
      "49\n",
      "52\n",
      "55\n",
      "58\n",
      "61\n",
      "64\n",
      "67\n",
      "70\n",
      "73\n",
      "76\n",
      "79\n",
      "82\n",
      "85\n",
      "88\n",
      "91\n",
      "94\n",
      "97\n",
      "100\n"
     ]
    }
   ],
   "source": [
    "def countbythree(end):\n",
    "    i = 1\n",
    "    l = []\n",
    "    while i <= end:\n",
    "        yield i\n",
    "        i += 3\n",
    "\n",
    "for value in countbythree(100):\n",
    "    print(value)"
   ]
  },
  {
   "cell_type": "markdown",
   "metadata": {},
   "source": [
    "Do you see how this is different from what we've been doing?\n",
    "\n",
    "Hint: Take a good long look at this:\n",
    "> for value in countbythree(100):\n",
    "\n",
    "We're looping over a function! That is, once we invoke the function, the function \"remembers\" where it is within the for-loop and only proceeds once you're ready.\n",
    "\n",
    "I won't say much more on generators except that they tend to be quicker, which matters when you're working with larger datasets. For now, it's enough to know that these are a powerful resource and you can develop your familiarity with these further as you progress in your learning."
   ]
  },
  {
   "cell_type": "markdown",
   "metadata": {},
   "source": [
    "<a id='functional'></a>\n",
    "## Introduction to Functional Programming\n",
    "([Back to the Table of Contents](#toc))"
   ]
  },
  {
   "cell_type": "markdown",
   "metadata": {},
   "source": [
    "As I mentioned in the last tutorial, there are several different programming paradigms and Python has ways of handling multiple such coding philosophies.\n",
    "\n",
    "While Python is often introduced to beginners as an object-oriented programming language, it is clear that different users can develop their own experiences with the language (e.g., developers probably treat it more like an object-oriented language, while data analysts probably treat it more like a procedural or functional language).\n",
    "\n",
    "Functional programming converts all expressions to functions. So that, in each line, we are telling our program what to do, not necessarily how to do it (this is defined elsewhere). It has the advantage of being more logical in some ways (\"Here is an input. Do something to it. Give me the output.\") and is often praised for being faster and more concise. At first, it is harder to read (you often have to think through what is being done at each stage), but once you develop a feel for it, may be quicker to read than even OOP.\n",
    "\n",
    "Below, we'll go over list comprehensions, which is the more 'pythonic' way of implementing functional programming tasks (by 'pythonic', I mean that Python's creator and community style guide prefer list comprehensions and seem to not love other functional programming methods)."
   ]
  },
  {
   "cell_type": "markdown",
   "metadata": {},
   "source": [
    "### List Comprehensions"
   ]
  },
  {
   "cell_type": "markdown",
   "metadata": {},
   "source": [
    "One of the brilliant things about loops is that you can loop through a set of values to dynamically accomplish some other task."
   ]
  },
  {
   "cell_type": "code",
   "execution_count": 8,
   "metadata": {
    "collapsed": false
   },
   "outputs": [
    {
     "data": {
      "text/plain": [
       "[1, 3, 5, 7, 9]"
      ]
     },
     "execution_count": 8,
     "metadata": {},
     "output_type": "execute_result"
    }
   ],
   "source": [
    "evensto10 = [2, 4, 6, 8, 10]\n",
    "oddsto10 = []\n",
    "# Loop through the list *even* to create a list called *odd*\n",
    "for i in evensto10:\n",
    "    oddsto10.append(i-1)\n",
    "oddsto10"
   ]
  },
  {
   "cell_type": "markdown",
   "metadata": {},
   "source": [
    "You can even add conditions within loops:"
   ]
  },
  {
   "cell_type": "code",
   "execution_count": 9,
   "metadata": {
    "collapsed": false
   },
   "outputs": [
    {
     "data": {
      "text/plain": [
       "[1, 3, 5, 7, 9]"
      ]
     },
     "execution_count": 9,
     "metadata": {},
     "output_type": "execute_result"
    }
   ],
   "source": [
    "evensto20 = [2, 4, 6, 8, 10, 12, 14, 16, 18, 20]\n",
    "oddsto10 = []\n",
    "# Loop through the list *even* to create a list called *odd*\n",
    "for i in evensto20:\n",
    "    if i <= 10:\n",
    "        oddsto10.append(i-1)\n",
    "oddsto10"
   ]
  },
  {
   "cell_type": "markdown",
   "metadata": {},
   "source": [
    "However, this is lengthy. And, the more conditions you add, the farther you have to indent code to the right. Fortunately, Python has a concept called a list comprehension that easily and parsimoniously achieves this task for you."
   ]
  },
  {
   "cell_type": "code",
   "execution_count": 10,
   "metadata": {
    "collapsed": false
   },
   "outputs": [
    {
     "data": {
      "text/plain": [
       "[1, 3, 5, 7, 9]"
      ]
     },
     "execution_count": 10,
     "metadata": {},
     "output_type": "execute_result"
    }
   ],
   "source": [
    "evensto10 = [2, 4, 6, 8, 10]\n",
    "oddsto10 = [i - 1 for i in evensto10] # \"Calculate 'i - 1' for each item, which we will call 'i' in the list evensto10\n",
    "oddsto10"
   ]
  },
  {
   "cell_type": "markdown",
   "metadata": {},
   "source": [
    "You can even add conditions to the list comprehension"
   ]
  },
  {
   "cell_type": "code",
   "execution_count": 11,
   "metadata": {
    "collapsed": false
   },
   "outputs": [
    {
     "data": {
      "text/plain": [
       "[1, 3, 5, 7, 9]"
      ]
     },
     "execution_count": 11,
     "metadata": {},
     "output_type": "execute_result"
    }
   ],
   "source": [
    "evensto20 = [2, 4, 6, 8, 10, 12, 14, 16, 18, 20]\n",
    "oddsto10 = [i - 1 for i in evensto20 if i <= 10]\n",
    "oddsto10"
   ]
  },
  {
   "cell_type": "markdown",
   "metadata": {},
   "source": [
    "By the way, did you notice that I could create the list evensto20 with a list comprehension?"
   ]
  },
  {
   "cell_type": "code",
   "execution_count": 12,
   "metadata": {
    "collapsed": false
   },
   "outputs": [
    {
     "data": {
      "text/plain": [
       "[2, 4, 6, 8, 10, 12, 14, 16, 18, 20]"
      ]
     },
     "execution_count": 12,
     "metadata": {},
     "output_type": "execute_result"
    }
   ],
   "source": [
    "evensto20 = [i for i in range(1,21) if i%2==0]\n",
    "evensto20"
   ]
  },
  {
   "cell_type": "markdown",
   "metadata": {},
   "source": [
    "Note that this concept is not limited to lists. You can do something similar with dictionaries and other iterables as well."
   ]
  },
  {
   "cell_type": "markdown",
   "metadata": {},
   "source": [
    "### Lambda functions (or anonymous functions)"
   ]
  },
  {
   "cell_type": "markdown",
   "metadata": {},
   "source": [
    "Recall that you can create a function as follows:"
   ]
  },
  {
   "cell_type": "code",
   "execution_count": 13,
   "metadata": {
    "collapsed": true
   },
   "outputs": [],
   "source": [
    "def getodds(evens):\n",
    "    odds = [i-1 for i in evens]\n",
    "    return odds"
   ]
  },
  {
   "cell_type": "markdown",
   "metadata": {},
   "source": [
    "Then, to get a list of odds, you'd just need to pass a list of evens to the function"
   ]
  },
  {
   "cell_type": "code",
   "execution_count": 14,
   "metadata": {
    "collapsed": false
   },
   "outputs": [
    {
     "data": {
      "text/plain": [
       "[1, 3, 5, 7, 9, 11, 13, 15, 17, 19]"
      ]
     },
     "execution_count": 14,
     "metadata": {},
     "output_type": "execute_result"
    }
   ],
   "source": [
    "evens = [i for i in range(1,21) if i%2==0]\n",
    "getodds(evens)"
   ]
  },
  {
   "cell_type": "markdown",
   "metadata": {},
   "source": [
    "\n",
    "Functions are useful if you want to repeatedly access that function. However, often you don't want to take the time to create a function and you just want to call it once or to use in a specific routine. Or, you might just have a really limited function that performs one specific task (rather than a series of related tasks).\n",
    "\n",
    "In this case you can create an unnamed function called a lambda, or anonymous, function."
   ]
  },
  {
   "cell_type": "code",
   "execution_count": 15,
   "metadata": {
    "collapsed": false
   },
   "outputs": [
    {
     "name": "stdout",
     "output_type": "stream",
     "text": [
      "Hello, World\n"
     ]
    }
   ],
   "source": [
    "printstatement = lambda x: print(x)\n",
    "printstatement(\"Hello, World\")"
   ]
  },
  {
   "cell_type": "markdown",
   "metadata": {},
   "source": [
    "Here's a more clear example."
   ]
  },
  {
   "cell_type": "code",
   "execution_count": 16,
   "metadata": {
    "collapsed": false
   },
   "outputs": [],
   "source": [
    "sum = lambda x, y : x + y\n",
    "sum(20, 30)\n",
    "\n",
    "# Can you see how this is identical to the following:\n",
    "\n",
    "def sum(x, y):\n",
    "    return (x+y)"
   ]
  },
  {
   "cell_type": "code",
   "execution_count": 17,
   "metadata": {
    "collapsed": false
   },
   "outputs": [
    {
     "data": {
      "text/plain": [
       "50"
      ]
     },
     "execution_count": 17,
     "metadata": {},
     "output_type": "execute_result"
    }
   ],
   "source": [
    "#With comments\n",
    "\n",
    "sum = lambda x, y : x + y\n",
    "# Create a function that takes two parameters called x and y\n",
    "# After the colon, pass an expression. Plug the arguments x and y\n",
    "# to fill the expression\n",
    "# Finally, store this routine in the name **sum**\n",
    "\n",
    "sum(20, 30)"
   ]
  },
  {
   "cell_type": "markdown",
   "metadata": {},
   "source": [
    "The creator of Python and much of the Python community is fine with everything we have discussed to this point. However, some in the community like to avoid the following implementations where possible, but it is clear that they can be very useful and why some people might prefer them."
   ]
  },
  {
   "cell_type": "markdown",
   "metadata": {},
   "source": [
    "### map"
   ]
  },
  {
   "cell_type": "markdown",
   "metadata": {},
   "source": [
    "**map** is one of these extraordinarily useful functions. It allows us to perform some function over some iterable."
   ]
  },
  {
   "cell_type": "code",
   "execution_count": 18,
   "metadata": {
    "collapsed": false
   },
   "outputs": [
    {
     "data": {
      "text/plain": [
       "[1, 3, 5, 7, 9, 11, 13, 15, 17, 19]"
      ]
     },
     "execution_count": 18,
     "metadata": {},
     "output_type": "execute_result"
    }
   ],
   "source": [
    "evens = [i for i in range(1,21) if i%2==0]\n",
    "getodds = map(lambda x:x-1, evens) \n",
    "# for each item -- let's call them x -- in the list called evens, \n",
    "# subtract 1\n",
    "\n",
    "list(getodds) # create a list from the map object"
   ]
  },
  {
   "cell_type": "markdown",
   "metadata": {},
   "source": [
    "**map** is often used as a replacement for a for-loop. However, a **map** expression is more concise and generally speeds things up."
   ]
  },
  {
   "cell_type": "markdown",
   "metadata": {},
   "source": [
    "### filter"
   ]
  },
  {
   "cell_type": "markdown",
   "metadata": {},
   "source": [
    "Filter, like **map**, iterates over every element in some iterable. However, rather than performing some function over each element, it simply returns those values for which some condition is true.\n",
    "\n",
    "Again, this helps avoid a lengthy for-loop full of if-else expressions and is generally faster."
   ]
  },
  {
   "cell_type": "code",
   "execution_count": 19,
   "metadata": {
    "collapsed": false
   },
   "outputs": [
    {
     "data": {
      "text/plain": [
       "[6, 4, 2, 20, 14, 8, 16, 12, 18, 10]"
      ]
     },
     "execution_count": 19,
     "metadata": {},
     "output_type": "execute_result"
    }
   ],
   "source": [
    "from random import shuffle\n",
    "evens = [i for i in range(1,21) if i%2==0]\n",
    "shuffle(evens) # randomizes order of elements in list\n",
    "evens"
   ]
  },
  {
   "cell_type": "code",
   "execution_count": 20,
   "metadata": {
    "collapsed": false
   },
   "outputs": [
    {
     "data": {
      "text/plain": [
       "<filter at 0x560f1d0>"
      ]
     },
     "execution_count": 20,
     "metadata": {},
     "output_type": "execute_result"
    }
   ],
   "source": [
    "evensto10 = filter(lambda x: x <= 10, evens)\n",
    "evensto10"
   ]
  },
  {
   "cell_type": "markdown",
   "metadata": {},
   "source": [
    "More on this soon, but note this returns a filter object. You have to compile this into a list:"
   ]
  },
  {
   "cell_type": "code",
   "execution_count": 21,
   "metadata": {
    "collapsed": false
   },
   "outputs": [
    {
     "data": {
      "text/plain": [
       "[6, 4, 2, 8, 10]"
      ]
     },
     "execution_count": 21,
     "metadata": {},
     "output_type": "execute_result"
    }
   ],
   "source": [
    "list(evensto10)"
   ]
  },
  {
   "cell_type": "code",
   "execution_count": 22,
   "metadata": {
    "collapsed": true,
    "scrolled": true
   },
   "outputs": [],
   "source": [
    "# Or, all at once:\n",
    "evensto10 = list(filter(lambda x: x <= 10, evens))"
   ]
  },
  {
   "cell_type": "markdown",
   "metadata": {},
   "source": [
    "### reduce"
   ]
  },
  {
   "cell_type": "markdown",
   "metadata": {},
   "source": [
    "**reduce** is a really cool function. It performs some operation on two items in a list. Then, it stores the result and performs that *same* operation on the result and a third item on the list. **reduce** repeats the process until there is nothing more to iterate over.\n",
    "\n",
    "Recall the function that we created in the last notebook:"
   ]
  },
  {
   "cell_type": "code",
   "execution_count": 23,
   "metadata": {
    "collapsed": true
   },
   "outputs": [],
   "source": [
    "def addTwo(x, y):\n",
    "    return x + y"
   ]
  },
  {
   "cell_type": "markdown",
   "metadata": {},
   "source": [
    "The problem with this function is it only allows us to perform an operation on a pair of values at a time. So, we would not be able to get the sum of a list of numbers. However, this is precisely where **reduce** is useful!"
   ]
  },
  {
   "cell_type": "code",
   "execution_count": 24,
   "metadata": {
    "collapsed": false
   },
   "outputs": [],
   "source": [
    "evens = [i for i in range(1,21) if i%2==0]"
   ]
  },
  {
   "cell_type": "code",
   "execution_count": 25,
   "metadata": {
    "collapsed": false
   },
   "outputs": [
    {
     "data": {
      "text/plain": [
       "110"
      ]
     },
     "execution_count": 25,
     "metadata": {},
     "output_type": "execute_result"
    }
   ],
   "source": [
    "from functools import reduce\n",
    "reduce((lambda x, y: x + y), evens)"
   ]
  },
  {
   "cell_type": "markdown",
   "metadata": {},
   "source": [
    "<a id='decorators'></a>\n",
    "## Higher-Order Functions\n",
    "([Back to the Table of Contents](#toc))"
   ]
  },
  {
   "cell_type": "markdown",
   "metadata": {},
   "source": [
    "A higher-order function is one where at least one of the parameters it takes is a function and/or it returns a separate function as a result."
   ]
  },
  {
   "cell_type": "markdown",
   "metadata": {},
   "source": [
    "### Decorators"
   ]
  },
  {
   "cell_type": "markdown",
   "metadata": {},
   "source": [
    "Decorators modify functions in a concise way and without *explicitly* modifying them.\n",
    "\n",
    "Let's start with the following nested function:"
   ]
  },
  {
   "cell_type": "code",
   "execution_count": 26,
   "metadata": {
    "collapsed": false
   },
   "outputs": [],
   "source": [
    "def playfootball(playtype):\n",
    "    def initializeplay():\n",
    "        print(\"The play has started.\")\n",
    "        playtype()\n",
    "        print(\"The play ended.\")\n",
    "    return initializeplay\n",
    "    \n",
    "def runplay():\n",
    "    print(\"They run the ball.\")\n",
    "    \n",
    "def passplay():\n",
    "    print(\"They pass the ball.\")"
   ]
  },
  {
   "cell_type": "code",
   "execution_count": 27,
   "metadata": {
    "collapsed": false
   },
   "outputs": [
    {
     "name": "stdout",
     "output_type": "stream",
     "text": [
      "The play has started.\n",
      "They run the ball.\n",
      "The play ended.\n"
     ]
    }
   ],
   "source": [
    "foo = playfootball(runplay)\n",
    "foo()"
   ]
  },
  {
   "cell_type": "markdown",
   "metadata": {},
   "source": [
    "Woah! What happened?\n",
    "\n",
    "So, we first created three functions. Since we did not execute these functions, these were just directions for what to do when called.\n",
    "\n",
    "Then we created an object *foo* that tells Python, \"Hey, I want to pass the function runplay to *playfootball* -- but don't do anything just yet.\"\n",
    "\n",
    "Finally, we execute this function *foo*. At this stage, we pass execute the function *initializeplay*, which prints a statement, executes the function that was passed to it, and executes a final statement. Finally, the entire sequence is returned so that it will be executed when we call *playfootball*.\n",
    "\n",
    "Okay, but let's take this one step further and use the decorator \"@\". Note that this produces an equivalent output, but saves a line of code (which I've commented out)."
   ]
  },
  {
   "cell_type": "code",
   "execution_count": 28,
   "metadata": {
    "collapsed": false
   },
   "outputs": [
    {
     "name": "stdout",
     "output_type": "stream",
     "text": [
      "The play has started.\n",
      "They run the ball.\n",
      "The play ended.\n",
      "The play has started.\n",
      "They pass the ball.\n",
      "The play ended.\n"
     ]
    }
   ],
   "source": [
    "def playfootball(playtype):\n",
    "    def initializeplay():\n",
    "        print(\"The play has started.\")\n",
    "        playtype()\n",
    "        print(\"The play ended.\")\n",
    "    return initializeplay\n",
    "\n",
    "@playfootball\n",
    "def runplay():\n",
    "    print(\"They run the ball.\")\n",
    "\n",
    "@playfootball\n",
    "def passplay():\n",
    "    print(\"They pass the ball.\")\n",
    "\n",
    "#foo = playfootball(runplay) # we don't need this anymore\n",
    "runplay()\n",
    "passplay()"
   ]
  },
  {
   "cell_type": "markdown",
   "metadata": {},
   "source": [
    "What happened here? The decorator signals that the function that follows will always be passed to **playfootball**. In this way, it is both good form (because it makes it easy to read) and serves a clear function.\n",
    "\n",
    "Also, I struggle with this so shout out to [Real Python](https://realpython.com/primer-on-python-decorators/) for making this easy to follow."
   ]
  },
  {
   "cell_type": "markdown",
   "metadata": {},
   "source": [
    "<a id='nextsteps'></a>\n",
    "## Hey, wait...is that all? What do I do now???\n",
    "([Back to the Table of Contents](#toc))"
   ]
  },
  {
   "cell_type": "markdown",
   "metadata": {},
   "source": [
    "Glad to see you've been enjoying these tutorials. Okay, so now you know way more than enough to get started with using Python in your day-to-day tasks. Before I started writing these tutorials, I only understood about half of these concepts, but I was still able to write code to perform myriad tasks.\n",
    "\n",
    "Your next step should be to learn some Python packages. If you want to learn data analysis or data science, your next step is likely learning **pandas** (which is the fourth and final tutorial in this series). However, you should also learn other packages. I don't have a list of things you should learn, but I do have one piece of advice:\n",
    "\n",
    "**Think of a project and pursue it relentlessly.** When I started, I wanted to figure out when we could expect NBA players to start declining in skill. I set out to create an age curve, plotting player experience against player productivity. To do this, I had to learn how to download data from the Internet, store this information in a CSV file, and scrape the CSV for the relevant data points. I expanded by storing the final dataset in a SQL database. Then, I created a short script that would allow users to query the database (e.g., for a player or position), and would finally use the website plot.ly to output a graphic. \n",
    "\n",
    "I knew none of this when I started. I completed the project within a couple of months of being introduced to Python. To do this, I had to learn a dozen packages and how to connect to an API. Most importantly, I learned to read documentation and navigate StackOverflow. \n",
    "\n",
    "The point is this: **if you pick a project, you will have internal motivation and the project will create a natural syllabus for you.** Pursuing your own project, I believe, is the best way to move forward."
   ]
  },
  {
   "cell_type": "markdown",
   "metadata": {},
   "source": [
    "<a id='appendix'></a>\n",
    "## Appendix\n",
    "([Back to the Table of Contents](#toc))"
   ]
  },
  {
   "cell_type": "markdown",
   "metadata": {},
   "source": [
    "### Underscores in method names (e.g., \\__init\\__, \\__iter\\__)"
   ]
  },
  {
   "cell_type": "markdown",
   "metadata": {},
   "source": [
    "From the [style guide](https://www.python.org/dev/peps/pep-0008/#descriptive-naming-styles):\n",
    "\n",
    "> These are \"magic\" objects or attributes that live in user-controlled namespaces.\n",
    "\n",
    "Not much more to say. There are only a handful of such commands, so when you see them, it can be confusing. However, it's important to recognize these are just objects that the creators of Python have deemed special in some way."
   ]
  },
  {
   "cell_type": "markdown",
   "metadata": {},
   "source": [
    "### High vs Low-Level Languages"
   ]
  },
  {
   "cell_type": "markdown",
   "metadata": {
    "collapsed": true
   },
   "source": [
    "First remember that a machine can only read binary -- sequences of 0s and 1s.\n",
    "\n",
    "A low-level programming language is one that is written very close to machine code. [First-generation languages](https://en.wikipedia.org/wiki/Low-level_programming_language) might have used binary or, more practically (to someone who is not me), some translatable but simpler-to-use alternative like hexademical. \n",
    "\n",
    "Second-generation (but still low-level) languages were an improvement because they used some mapping of English symbols to extend the first-gen languages.\n",
    "\n",
    "The lowest-level programming languages are fast and powerful, but they are also very difficult to learn. Have you noticed that everything you've learned in Python is basically English? Furthermore, it has a clear grammar that you can follow and internalize. I would wager that, by now, any time you read most Python code, you have a strong intuition of what's going on.\n",
    "\n",
    "Python is an example of a high-level programming language. The language is written for us, not for the computer. As I mentioned above, they are generally written in English and have a clear syntactical structure. These are slower and we don't have as much control in programming; however, they are much easier to work with. "
   ]
  },
  {
   "cell_type": "markdown",
   "metadata": {},
   "source": [
    "### Compiled vs Interpreted Implementations"
   ]
  },
  {
   "cell_type": "markdown",
   "metadata": {
    "collapsed": true
   },
   "source": [
    "If this tutorial is your first and only experience with a programming language, you might not be aware that, even among high-level programming languages, there is a further distinction in how the programs are implemented.\n",
    "\n",
    "C, for instance, generally relies on a compiled implementation. You first write a script and save it. However, you cannot execute it immediately. It must separately be 'compiled', or translated, it into machine code and only then is it executed.\n",
    "\n",
    "Python, on the other hand, relies primarily on a interpreted implementation. An interpreter translates the code we write into an efficient, compressed version (for Python, this is bytecode), which can then be directly executed. This largely goes above my head and is not necessary for you to be able to program on a day-to-day basis. It is just worth knowing that interpreted code is typically slower but, again, more user-friendly."
   ]
  },
  {
   "cell_type": "markdown",
   "metadata": {},
   "source": [
    "### Lazy Evaluation"
   ]
  },
  {
   "cell_type": "markdown",
   "metadata": {
    "collapsed": true
   },
   "source": [
    "Did you notice anything about the objects returned by the functional programming methods we've been learning?"
   ]
  },
  {
   "cell_type": "code",
   "execution_count": 29,
   "metadata": {
    "collapsed": false
   },
   "outputs": [
    {
     "data": {
      "text/plain": [
       "<generator object countbythree at 0x00000000055F42B0>"
      ]
     },
     "execution_count": 29,
     "metadata": {},
     "output_type": "execute_result"
    }
   ],
   "source": [
    "def countbythree(end):\n",
    "    i = 1\n",
    "    l = []\n",
    "    while i <= end:\n",
    "        yield i\n",
    "        i += 3\n",
    "countbythree(100)"
   ]
  },
  {
   "cell_type": "code",
   "execution_count": 30,
   "metadata": {
    "collapsed": false
   },
   "outputs": [
    {
     "data": {
      "text/plain": [
       "<map at 0x5602a58>"
      ]
     },
     "execution_count": 30,
     "metadata": {},
     "output_type": "execute_result"
    }
   ],
   "source": [
    "evens = [i for i in range(1,21) if i%2==0]\n",
    "getodds = map(lambda x:x-1, evens) \n",
    "getodds"
   ]
  },
  {
   "cell_type": "code",
   "execution_count": 31,
   "metadata": {
    "collapsed": false
   },
   "outputs": [
    {
     "data": {
      "text/plain": [
       "<filter at 0x560f860>"
      ]
     },
     "execution_count": 31,
     "metadata": {},
     "output_type": "execute_result"
    }
   ],
   "source": [
    "from random import shuffle\n",
    "evens = [i for i in range(1,21) if i%2==0]\n",
    "shuffle(evens) # randomizes order of elements in list\n",
    "evensto10 = filter(lambda x: x <= 10, evens)\n",
    "evensto10"
   ]
  },
  {
   "cell_type": "markdown",
   "metadata": {},
   "source": [
    "None of these methods returns the list we were expecting. We are instead returned a generator, map, and filter object, respectively.\n",
    "\n",
    "This is what is known as *lazy evaluation*. In each of these cases, Python stores a blueprint of the object. Consider the map object called *getodds*. Python is telling us, \"Hey, you wanted an object that subtracts 1 from each item in the list evens. You don't need it right now, so I'm not going to go get it right now. But I'll keep in mind what you want.\" In this case, Python is either being an annoying little brother who won't go and get you the remote when you want it, or is being a terrific younger brother who brings you things exactly when you need it.\n",
    "\n",
    "So, the instructions are ready to go and are stored in the name *getodds*. Once we're ready to use the numbers, we can do any number of things to actually get Python to evaluate those instructions. For instance, we might loop over those values or create a list out of them:"
   ]
  },
  {
   "cell_type": "code",
   "execution_count": 32,
   "metadata": {
    "collapsed": false
   },
   "outputs": [
    {
     "data": {
      "text/plain": [
       "[1, 3, 5, 7, 9, 11, 13, 15, 17, 19]"
      ]
     },
     "execution_count": 32,
     "metadata": {},
     "output_type": "execute_result"
    }
   ],
   "source": [
    "list(getodds)"
   ]
  },
  {
   "cell_type": "markdown",
   "metadata": {},
   "source": [
    "# END OF FILE"
   ]
  }
 ],
 "metadata": {
  "kernelspec": {
   "display_name": "Python 3",
   "language": "python",
   "name": "python3"
  },
  "language_info": {
   "codemirror_mode": {
    "name": "ipython",
    "version": 3
   },
   "file_extension": ".py",
   "mimetype": "text/x-python",
   "name": "python",
   "nbconvert_exporter": "python",
   "pygments_lexer": "ipython3",
   "version": "3.6.0"
  }
 },
 "nbformat": 4,
 "nbformat_minor": 0
}
